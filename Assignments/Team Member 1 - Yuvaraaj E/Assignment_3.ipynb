{
  "cells": [
    {
      "cell_type": "markdown",
      "id": "457c4795",
      "metadata": {
        "id": "457c4795"
      },
      "source": [
        "# Problem Statement: Abalone Age Prediction"
      ]
    },
    {
      "cell_type": "markdown",
      "id": "1ecae4cb",
      "metadata": {
        "id": "1ecae4cb"
      },
      "source": [
        "## 1. Download the dataset: Dataset\n",
        "## 2. Load the dataset into the tool."
      ]
    },
    {
      "cell_type": "code",
      "execution_count": 1,
      "id": "40136f5d",
      "metadata": {
        "id": "40136f5d",
        "outputId": "0e63652a-18ab-4f55-d760-3ff9f2db9a01",
        "colab": {
          "base_uri": "https://localhost:8080/",
          "height": 380
        }
      },
      "outputs": [
        {
          "output_type": "error",
          "ename": "FileNotFoundError",
          "evalue": "ignored",
          "traceback": [
            "\u001b[0;31m---------------------------------------------------------------------------\u001b[0m",
            "\u001b[0;31mFileNotFoundError\u001b[0m                         Traceback (most recent call last)",
            "\u001b[0;32m<ipython-input-1-10c392532b3f>\u001b[0m in \u001b[0;36m<module>\u001b[0;34m\u001b[0m\n\u001b[1;32m      2\u001b[0m \u001b[0;32mimport\u001b[0m \u001b[0mpandas\u001b[0m \u001b[0;32mas\u001b[0m \u001b[0mpd\u001b[0m\u001b[0;34m\u001b[0m\u001b[0;34m\u001b[0m\u001b[0m\n\u001b[1;32m      3\u001b[0m \u001b[0;34m\u001b[0m\u001b[0m\n\u001b[0;32m----> 4\u001b[0;31m \u001b[0mds\u001b[0m\u001b[0;34m=\u001b[0m\u001b[0mpd\u001b[0m\u001b[0;34m.\u001b[0m\u001b[0mread_csv\u001b[0m\u001b[0;34m(\u001b[0m\u001b[0;34m\"abalone.csv\"\u001b[0m\u001b[0;34m)\u001b[0m\u001b[0;34m\u001b[0m\u001b[0;34m\u001b[0m\u001b[0m\n\u001b[0m\u001b[1;32m      5\u001b[0m \u001b[0;34m\u001b[0m\u001b[0m\n\u001b[1;32m      6\u001b[0m \u001b[0;31m# Rings / integer / -- / +1.5 gives the age in years\u001b[0m\u001b[0;34m\u001b[0m\u001b[0;34m\u001b[0m\u001b[0;34m\u001b[0m\u001b[0m\n",
            "\u001b[0;32m/usr/local/lib/python3.7/dist-packages/pandas/util/_decorators.py\u001b[0m in \u001b[0;36mwrapper\u001b[0;34m(*args, **kwargs)\u001b[0m\n\u001b[1;32m    309\u001b[0m                     \u001b[0mstacklevel\u001b[0m\u001b[0;34m=\u001b[0m\u001b[0mstacklevel\u001b[0m\u001b[0;34m,\u001b[0m\u001b[0;34m\u001b[0m\u001b[0;34m\u001b[0m\u001b[0m\n\u001b[1;32m    310\u001b[0m                 )\n\u001b[0;32m--> 311\u001b[0;31m             \u001b[0;32mreturn\u001b[0m \u001b[0mfunc\u001b[0m\u001b[0;34m(\u001b[0m\u001b[0;34m*\u001b[0m\u001b[0margs\u001b[0m\u001b[0;34m,\u001b[0m \u001b[0;34m**\u001b[0m\u001b[0mkwargs\u001b[0m\u001b[0;34m)\u001b[0m\u001b[0;34m\u001b[0m\u001b[0;34m\u001b[0m\u001b[0m\n\u001b[0m\u001b[1;32m    312\u001b[0m \u001b[0;34m\u001b[0m\u001b[0m\n\u001b[1;32m    313\u001b[0m         \u001b[0;32mreturn\u001b[0m \u001b[0mwrapper\u001b[0m\u001b[0;34m\u001b[0m\u001b[0;34m\u001b[0m\u001b[0m\n",
            "\u001b[0;32m/usr/local/lib/python3.7/dist-packages/pandas/io/parsers/readers.py\u001b[0m in \u001b[0;36mread_csv\u001b[0;34m(filepath_or_buffer, sep, delimiter, header, names, index_col, usecols, squeeze, prefix, mangle_dupe_cols, dtype, engine, converters, true_values, false_values, skipinitialspace, skiprows, skipfooter, nrows, na_values, keep_default_na, na_filter, verbose, skip_blank_lines, parse_dates, infer_datetime_format, keep_date_col, date_parser, dayfirst, cache_dates, iterator, chunksize, compression, thousands, decimal, lineterminator, quotechar, quoting, doublequote, escapechar, comment, encoding, encoding_errors, dialect, error_bad_lines, warn_bad_lines, on_bad_lines, delim_whitespace, low_memory, memory_map, float_precision, storage_options)\u001b[0m\n\u001b[1;32m    584\u001b[0m     \u001b[0mkwds\u001b[0m\u001b[0;34m.\u001b[0m\u001b[0mupdate\u001b[0m\u001b[0;34m(\u001b[0m\u001b[0mkwds_defaults\u001b[0m\u001b[0;34m)\u001b[0m\u001b[0;34m\u001b[0m\u001b[0;34m\u001b[0m\u001b[0m\n\u001b[1;32m    585\u001b[0m \u001b[0;34m\u001b[0m\u001b[0m\n\u001b[0;32m--> 586\u001b[0;31m     \u001b[0;32mreturn\u001b[0m \u001b[0m_read\u001b[0m\u001b[0;34m(\u001b[0m\u001b[0mfilepath_or_buffer\u001b[0m\u001b[0;34m,\u001b[0m \u001b[0mkwds\u001b[0m\u001b[0;34m)\u001b[0m\u001b[0;34m\u001b[0m\u001b[0;34m\u001b[0m\u001b[0m\n\u001b[0m\u001b[1;32m    587\u001b[0m \u001b[0;34m\u001b[0m\u001b[0m\n\u001b[1;32m    588\u001b[0m \u001b[0;34m\u001b[0m\u001b[0m\n",
            "\u001b[0;32m/usr/local/lib/python3.7/dist-packages/pandas/io/parsers/readers.py\u001b[0m in \u001b[0;36m_read\u001b[0;34m(filepath_or_buffer, kwds)\u001b[0m\n\u001b[1;32m    480\u001b[0m \u001b[0;34m\u001b[0m\u001b[0m\n\u001b[1;32m    481\u001b[0m     \u001b[0;31m# Create the parser.\u001b[0m\u001b[0;34m\u001b[0m\u001b[0;34m\u001b[0m\u001b[0;34m\u001b[0m\u001b[0m\n\u001b[0;32m--> 482\u001b[0;31m     \u001b[0mparser\u001b[0m \u001b[0;34m=\u001b[0m \u001b[0mTextFileReader\u001b[0m\u001b[0;34m(\u001b[0m\u001b[0mfilepath_or_buffer\u001b[0m\u001b[0;34m,\u001b[0m \u001b[0;34m**\u001b[0m\u001b[0mkwds\u001b[0m\u001b[0;34m)\u001b[0m\u001b[0;34m\u001b[0m\u001b[0;34m\u001b[0m\u001b[0m\n\u001b[0m\u001b[1;32m    483\u001b[0m \u001b[0;34m\u001b[0m\u001b[0m\n\u001b[1;32m    484\u001b[0m     \u001b[0;32mif\u001b[0m \u001b[0mchunksize\u001b[0m \u001b[0;32mor\u001b[0m \u001b[0miterator\u001b[0m\u001b[0;34m:\u001b[0m\u001b[0;34m\u001b[0m\u001b[0;34m\u001b[0m\u001b[0m\n",
            "\u001b[0;32m/usr/local/lib/python3.7/dist-packages/pandas/io/parsers/readers.py\u001b[0m in \u001b[0;36m__init__\u001b[0;34m(self, f, engine, **kwds)\u001b[0m\n\u001b[1;32m    809\u001b[0m             \u001b[0mself\u001b[0m\u001b[0;34m.\u001b[0m\u001b[0moptions\u001b[0m\u001b[0;34m[\u001b[0m\u001b[0;34m\"has_index_names\"\u001b[0m\u001b[0;34m]\u001b[0m \u001b[0;34m=\u001b[0m \u001b[0mkwds\u001b[0m\u001b[0;34m[\u001b[0m\u001b[0;34m\"has_index_names\"\u001b[0m\u001b[0;34m]\u001b[0m\u001b[0;34m\u001b[0m\u001b[0;34m\u001b[0m\u001b[0m\n\u001b[1;32m    810\u001b[0m \u001b[0;34m\u001b[0m\u001b[0m\n\u001b[0;32m--> 811\u001b[0;31m         \u001b[0mself\u001b[0m\u001b[0;34m.\u001b[0m\u001b[0m_engine\u001b[0m \u001b[0;34m=\u001b[0m \u001b[0mself\u001b[0m\u001b[0;34m.\u001b[0m\u001b[0m_make_engine\u001b[0m\u001b[0;34m(\u001b[0m\u001b[0mself\u001b[0m\u001b[0;34m.\u001b[0m\u001b[0mengine\u001b[0m\u001b[0;34m)\u001b[0m\u001b[0;34m\u001b[0m\u001b[0;34m\u001b[0m\u001b[0m\n\u001b[0m\u001b[1;32m    812\u001b[0m \u001b[0;34m\u001b[0m\u001b[0m\n\u001b[1;32m    813\u001b[0m     \u001b[0;32mdef\u001b[0m \u001b[0mclose\u001b[0m\u001b[0;34m(\u001b[0m\u001b[0mself\u001b[0m\u001b[0;34m)\u001b[0m\u001b[0;34m:\u001b[0m\u001b[0;34m\u001b[0m\u001b[0;34m\u001b[0m\u001b[0m\n",
            "\u001b[0;32m/usr/local/lib/python3.7/dist-packages/pandas/io/parsers/readers.py\u001b[0m in \u001b[0;36m_make_engine\u001b[0;34m(self, engine)\u001b[0m\n\u001b[1;32m   1038\u001b[0m             )\n\u001b[1;32m   1039\u001b[0m         \u001b[0;31m# error: Too many arguments for \"ParserBase\"\u001b[0m\u001b[0;34m\u001b[0m\u001b[0;34m\u001b[0m\u001b[0;34m\u001b[0m\u001b[0m\n\u001b[0;32m-> 1040\u001b[0;31m         \u001b[0;32mreturn\u001b[0m \u001b[0mmapping\u001b[0m\u001b[0;34m[\u001b[0m\u001b[0mengine\u001b[0m\u001b[0;34m]\u001b[0m\u001b[0;34m(\u001b[0m\u001b[0mself\u001b[0m\u001b[0;34m.\u001b[0m\u001b[0mf\u001b[0m\u001b[0;34m,\u001b[0m \u001b[0;34m**\u001b[0m\u001b[0mself\u001b[0m\u001b[0;34m.\u001b[0m\u001b[0moptions\u001b[0m\u001b[0;34m)\u001b[0m  \u001b[0;31m# type: ignore[call-arg]\u001b[0m\u001b[0;34m\u001b[0m\u001b[0;34m\u001b[0m\u001b[0m\n\u001b[0m\u001b[1;32m   1041\u001b[0m \u001b[0;34m\u001b[0m\u001b[0m\n\u001b[1;32m   1042\u001b[0m     \u001b[0;32mdef\u001b[0m \u001b[0m_failover_to_python\u001b[0m\u001b[0;34m(\u001b[0m\u001b[0mself\u001b[0m\u001b[0;34m)\u001b[0m\u001b[0;34m:\u001b[0m\u001b[0;34m\u001b[0m\u001b[0;34m\u001b[0m\u001b[0m\n",
            "\u001b[0;32m/usr/local/lib/python3.7/dist-packages/pandas/io/parsers/c_parser_wrapper.py\u001b[0m in \u001b[0;36m__init__\u001b[0;34m(self, src, **kwds)\u001b[0m\n\u001b[1;32m     49\u001b[0m \u001b[0;34m\u001b[0m\u001b[0m\n\u001b[1;32m     50\u001b[0m         \u001b[0;31m# open handles\u001b[0m\u001b[0;34m\u001b[0m\u001b[0;34m\u001b[0m\u001b[0;34m\u001b[0m\u001b[0m\n\u001b[0;32m---> 51\u001b[0;31m         \u001b[0mself\u001b[0m\u001b[0;34m.\u001b[0m\u001b[0m_open_handles\u001b[0m\u001b[0;34m(\u001b[0m\u001b[0msrc\u001b[0m\u001b[0;34m,\u001b[0m \u001b[0mkwds\u001b[0m\u001b[0;34m)\u001b[0m\u001b[0;34m\u001b[0m\u001b[0;34m\u001b[0m\u001b[0m\n\u001b[0m\u001b[1;32m     52\u001b[0m         \u001b[0;32massert\u001b[0m \u001b[0mself\u001b[0m\u001b[0;34m.\u001b[0m\u001b[0mhandles\u001b[0m \u001b[0;32mis\u001b[0m \u001b[0;32mnot\u001b[0m \u001b[0;32mNone\u001b[0m\u001b[0;34m\u001b[0m\u001b[0;34m\u001b[0m\u001b[0m\n\u001b[1;32m     53\u001b[0m \u001b[0;34m\u001b[0m\u001b[0m\n",
            "\u001b[0;32m/usr/local/lib/python3.7/dist-packages/pandas/io/parsers/base_parser.py\u001b[0m in \u001b[0;36m_open_handles\u001b[0;34m(self, src, kwds)\u001b[0m\n\u001b[1;32m    227\u001b[0m             \u001b[0mmemory_map\u001b[0m\u001b[0;34m=\u001b[0m\u001b[0mkwds\u001b[0m\u001b[0;34m.\u001b[0m\u001b[0mget\u001b[0m\u001b[0;34m(\u001b[0m\u001b[0;34m\"memory_map\"\u001b[0m\u001b[0;34m,\u001b[0m \u001b[0;32mFalse\u001b[0m\u001b[0;34m)\u001b[0m\u001b[0;34m,\u001b[0m\u001b[0;34m\u001b[0m\u001b[0;34m\u001b[0m\u001b[0m\n\u001b[1;32m    228\u001b[0m             \u001b[0mstorage_options\u001b[0m\u001b[0;34m=\u001b[0m\u001b[0mkwds\u001b[0m\u001b[0;34m.\u001b[0m\u001b[0mget\u001b[0m\u001b[0;34m(\u001b[0m\u001b[0;34m\"storage_options\"\u001b[0m\u001b[0;34m,\u001b[0m \u001b[0;32mNone\u001b[0m\u001b[0;34m)\u001b[0m\u001b[0;34m,\u001b[0m\u001b[0;34m\u001b[0m\u001b[0;34m\u001b[0m\u001b[0m\n\u001b[0;32m--> 229\u001b[0;31m             \u001b[0merrors\u001b[0m\u001b[0;34m=\u001b[0m\u001b[0mkwds\u001b[0m\u001b[0;34m.\u001b[0m\u001b[0mget\u001b[0m\u001b[0;34m(\u001b[0m\u001b[0;34m\"encoding_errors\"\u001b[0m\u001b[0;34m,\u001b[0m \u001b[0;34m\"strict\"\u001b[0m\u001b[0;34m)\u001b[0m\u001b[0;34m,\u001b[0m\u001b[0;34m\u001b[0m\u001b[0;34m\u001b[0m\u001b[0m\n\u001b[0m\u001b[1;32m    230\u001b[0m         )\n\u001b[1;32m    231\u001b[0m \u001b[0;34m\u001b[0m\u001b[0m\n",
            "\u001b[0;32m/usr/local/lib/python3.7/dist-packages/pandas/io/common.py\u001b[0m in \u001b[0;36mget_handle\u001b[0;34m(path_or_buf, mode, encoding, compression, memory_map, is_text, errors, storage_options)\u001b[0m\n\u001b[1;32m    705\u001b[0m                 \u001b[0mencoding\u001b[0m\u001b[0;34m=\u001b[0m\u001b[0mioargs\u001b[0m\u001b[0;34m.\u001b[0m\u001b[0mencoding\u001b[0m\u001b[0;34m,\u001b[0m\u001b[0;34m\u001b[0m\u001b[0;34m\u001b[0m\u001b[0m\n\u001b[1;32m    706\u001b[0m                 \u001b[0merrors\u001b[0m\u001b[0;34m=\u001b[0m\u001b[0merrors\u001b[0m\u001b[0;34m,\u001b[0m\u001b[0;34m\u001b[0m\u001b[0;34m\u001b[0m\u001b[0m\n\u001b[0;32m--> 707\u001b[0;31m                 \u001b[0mnewline\u001b[0m\u001b[0;34m=\u001b[0m\u001b[0;34m\"\"\u001b[0m\u001b[0;34m,\u001b[0m\u001b[0;34m\u001b[0m\u001b[0;34m\u001b[0m\u001b[0m\n\u001b[0m\u001b[1;32m    708\u001b[0m             )\n\u001b[1;32m    709\u001b[0m         \u001b[0;32melse\u001b[0m\u001b[0;34m:\u001b[0m\u001b[0;34m\u001b[0m\u001b[0;34m\u001b[0m\u001b[0m\n",
            "\u001b[0;31mFileNotFoundError\u001b[0m: [Errno 2] No such file or directory: 'abalone.csv'"
          ]
        }
      ],
      "source": [
        "import numpy as np\n",
        "import pandas as pd\n",
        "\n",
        "ds=pd.read_csv(\"abalone.csv\")\n",
        "\n",
        "# Rings / integer / -- / +1.5 gives the age in years\n",
        "\n",
        "ds['Age']=ds[\"Rings\"]+1.5\n",
        "\n",
        "ds.head(5)"
      ]
    },
    {
      "cell_type": "markdown",
      "id": "8d1151d0",
      "metadata": {
        "id": "8d1151d0"
      },
      "source": [
        "## 3. Perform Below Visualizations.\n",
        "## ∙ Univariate Analysis\n",
        "## ∙ Bi-Variate Analysis\n",
        "## ∙ Multi-Variate Analysis"
      ]
    },
    {
      "cell_type": "code",
      "execution_count": null,
      "id": "aef5ac2b",
      "metadata": {
        "id": "aef5ac2b"
      },
      "outputs": [],
      "source": [
        "# univarient analysis\n",
        "\n",
        "#frequency table for age\n",
        "\n",
        "ft = ds1['Age'].value_counts()\n",
        "\n",
        "print(\"Frequency table for Age is given below\")\n",
        "print(\"{}\\n\\n\\n\".format(ft))\n",
        "\n",
        "# mean\n",
        "\n",
        "print(\"Mean, Median, std \\n\")\n",
        "ma=ds1['Age'].mean() #mean of age\n",
        "mh = ds1['Height'].mean() #mean of height\n",
        "mel = ds1['Length'].median() #median value of length\n",
        "stw = ds1['Whole weight'].std() #standard devation of whole weight\n",
        "\n",
        "\n",
        "#chart\n",
        "\n",
        "import matplotlib.pyplot as plt # library for plot or graph\n",
        "import seaborn as sns\n",
        "\n",
        "plt.subplot(1,2,1)\n",
        "ch = ds1.boxplot(column='Diameter',grid=True,color ='red')\n",
        "plt.title('Box plot')\n",
        "\n",
        "plt.subplot(1,2,2)\n",
        "DC = sns.kdeplot(ds1['Diameter'])\n",
        "plt.title('Density Curve')\n",
        "\n",
        "\n",
        "\n",
        "print(\"1-mean of age = \",ma) \n",
        "print(\"2-mean of height = \",mh) \n",
        "print(\"3-median value of length = \",mel)#\n",
        "print(\"4-standard devation of whole weight = \",stw) \n",
        "print(\"5-frequency table for rings = \\n {}\" .format(fre)) \n",
        "print(\"\\nChart\\n\\n6-boxplot of Diameter\",flush=True)\n",
        "\n"
      ]
    },
    {
      "cell_type": "code",
      "execution_count": null,
      "id": "2f61eac9",
      "metadata": {
        "id": "2f61eac9"
      },
      "outputs": [],
      "source": [
        "#multi-varient analysis\n",
        "\n",
        "import matplotlib.pyplot as plt\n",
        "import seaborn as sns\n",
        "\n",
        "ds1=ds.head(200)\n",
        "df=sns.countplot(x=\"Viscera weight\",hue='Sex',data=ds1)\n",
        "\n",
        "print(df)"
      ]
    },
    {
      "cell_type": "markdown",
      "id": "e7150cef",
      "metadata": {
        "id": "e7150cef"
      },
      "source": [
        "## 4. Perform descriptive statistics on the dataset."
      ]
    },
    {
      "cell_type": "code",
      "execution_count": null,
      "id": "4e1cad43",
      "metadata": {
        "id": "4e1cad43"
      },
      "outputs": [],
      "source": [
        "ds.describe()"
      ]
    },
    {
      "cell_type": "markdown",
      "id": "870c7a54",
      "metadata": {
        "id": "870c7a54"
      },
      "source": [
        "## 5. Check for Missing values and deal with them."
      ]
    },
    {
      "cell_type": "code",
      "execution_count": null,
      "id": "a615c07b",
      "metadata": {
        "id": "a615c07b"
      },
      "outputs": [],
      "source": [
        "ds.info()"
      ]
    },
    {
      "cell_type": "code",
      "execution_count": null,
      "id": "4b69283d",
      "metadata": {
        "id": "4b69283d"
      },
      "outputs": [],
      "source": [
        "ds.isnull().sum()\n"
      ]
    },
    {
      "cell_type": "code",
      "execution_count": null,
      "id": "294f791d",
      "metadata": {
        "id": "294f791d"
      },
      "outputs": [],
      "source": [
        "ds.notnull()"
      ]
    },
    {
      "cell_type": "markdown",
      "id": "0c242b31",
      "metadata": {
        "id": "0c242b31"
      },
      "source": [
        "## 6. Find the outliers and replace them outliers"
      ]
    },
    {
      "cell_type": "code",
      "execution_count": null,
      "id": "69e9752f",
      "metadata": {
        "id": "69e9752f"
      },
      "outputs": [],
      "source": [
        "#occurence of outliers\n",
        "#a data point in a data set that is distant from all other observations\n",
        "\n",
        "sns.boxplot(ds.Diameter)"
      ]
    },
    {
      "cell_type": "code",
      "execution_count": null,
      "id": "edf99479",
      "metadata": {
        "scrolled": true,
        "id": "edf99479"
      },
      "outputs": [],
      "source": [
        "\n",
        "Q1= ds.Diameter.quantile(0.25)\n",
        "Q3=ds.Diameter.quantile(0.75)\n",
        "\n",
        "IQR=Q3-Q1   #spread the middle values are\n",
        "\n",
        "upper_limit =Q3 + 1.5*IQR\n",
        "lower_limit =Q1 - 1.5*IQR\n",
        "\n",
        "ds['Diameter'] = np.where(ds['Diameter']>upper_limit,30,ds['Diameter'])\n",
        "\n",
        "sns.boxplot(ds.Diameter)"
      ]
    },
    {
      "cell_type": "markdown",
      "id": "0fd65d11",
      "metadata": {
        "id": "0fd65d11"
      },
      "source": [
        "## 7. Check for Categorical columns and perform encoding."
      ]
    },
    {
      "cell_type": "code",
      "execution_count": null,
      "id": "bc018e8c",
      "metadata": {
        "id": "bc018e8c"
      },
      "outputs": [],
      "source": [
        "from sklearn.preprocessing import LabelEncoder\n",
        "le = LabelEncoder()\n",
        "\n",
        "ds1['Sex'] = le.fit_transform(ds1['Sex'])\n",
        "ds1\n",
        "\n",
        "        # 0 = female, 1 = infant, 2 = male\n"
      ]
    },
    {
      "cell_type": "markdown",
      "id": "b26ceb04",
      "metadata": {
        "id": "b26ceb04"
      },
      "source": [
        "## 8. Split the data into dependent and independent variables."
      ]
    },
    {
      "cell_type": "code",
      "execution_count": null,
      "id": "9ee35541",
      "metadata": {
        "id": "9ee35541"
      },
      "outputs": [],
      "source": [
        "#Splitting the Dataset into the Independent Feature Matrix\n",
        "\n",
        "x = ds1.iloc[:, 0:9]\n",
        "x"
      ]
    },
    {
      "cell_type": "code",
      "execution_count": null,
      "id": "46aa2d2c",
      "metadata": {
        "id": "46aa2d2c"
      },
      "outputs": [],
      "source": [
        "#Extracting the Dataset to Get the Dependent Vector\n",
        "\n",
        "y = ds1.iloc[:,9:10]\n",
        "print(y)"
      ]
    },
    {
      "cell_type": "markdown",
      "id": "1aa23453",
      "metadata": {
        "id": "1aa23453"
      },
      "source": [
        "## 9. Scale the independent variables"
      ]
    },
    {
      "cell_type": "code",
      "execution_count": null,
      "id": "298cf459",
      "metadata": {
        "id": "298cf459"
      },
      "outputs": [],
      "source": [
        "#scaling the independent variables using scale and MinMaxScaler\n",
        "\n",
        "from sklearn.preprocessing import scale\n",
        "from sklearn.preprocessing import MinMaxScaler\n",
        "\n",
        "mm = MinMaxScaler()\n",
        "\n",
        "x_scaled = mm.fit_transform(x)\n",
        "y_scaled = mm.fit_transform(y)"
      ]
    },
    {
      "cell_type": "code",
      "execution_count": null,
      "id": "a03029d1",
      "metadata": {
        "id": "a03029d1"
      },
      "outputs": [],
      "source": [
        "x_scaled"
      ]
    },
    {
      "cell_type": "code",
      "execution_count": null,
      "id": "b288b66e",
      "metadata": {
        "id": "b288b66e"
      },
      "outputs": [],
      "source": [
        "y_scaled"
      ]
    },
    {
      "cell_type": "markdown",
      "id": "e02aff6b",
      "metadata": {
        "id": "e02aff6b"
      },
      "source": [
        "## 10. Split the data into training and testing"
      ]
    },
    {
      "cell_type": "code",
      "execution_count": null,
      "id": "8c64834f",
      "metadata": {
        "id": "8c64834f"
      },
      "outputs": [],
      "source": [
        "\n",
        "from sklearn.model_selection import train_test_split # library for split the data into training and testing\n",
        "\n",
        "x_train,x_test,y_train,y_test = train_test_split(x_scaled,y_scaled,train_size=0.80,test_size = 0.20,random_state=0)"
      ]
    },
    {
      "cell_type": "code",
      "execution_count": null,
      "id": "481ad85f",
      "metadata": {
        "id": "481ad85f"
      },
      "outputs": [],
      "source": [
        "x_train"
      ]
    },
    {
      "cell_type": "code",
      "execution_count": null,
      "id": "6f387b8b",
      "metadata": {
        "id": "6f387b8b"
      },
      "outputs": [],
      "source": [
        "y_train"
      ]
    },
    {
      "cell_type": "code",
      "execution_count": null,
      "id": "4ce070e6",
      "metadata": {
        "id": "4ce070e6"
      },
      "outputs": [],
      "source": [
        "x_test"
      ]
    },
    {
      "cell_type": "code",
      "execution_count": null,
      "id": "cab53c98",
      "metadata": {
        "id": "cab53c98"
      },
      "outputs": [],
      "source": [
        "y_test"
      ]
    },
    {
      "cell_type": "code",
      "execution_count": null,
      "id": "d227ece0",
      "metadata": {
        "id": "d227ece0"
      },
      "outputs": [],
      "source": [
        "print(x_scaled.shape)\n",
        "print(y_scaled.shape)\n",
        "print(x_train.shape)\n",
        "print(y_train.shape)\n",
        "print(x_test.shape)\n",
        "print(y_test.shape)"
      ]
    },
    {
      "cell_type": "markdown",
      "id": "be3d3797",
      "metadata": {
        "id": "be3d3797"
      },
      "source": [
        "## 11. Build the Model"
      ]
    },
    {
      "cell_type": "code",
      "execution_count": null,
      "id": "0c02dd4d",
      "metadata": {
        "id": "0c02dd4d"
      },
      "outputs": [],
      "source": [
        "from sklearn.linear_model import LinearRegression\n",
        "\n",
        "mlr = LinearRegression()\n",
        "\n",
        "mlr.fit(x_train,y_train)"
      ]
    },
    {
      "cell_type": "markdown",
      "id": "17570045",
      "metadata": {
        "id": "17570045"
      },
      "source": [
        "## 12. Train the Model\n",
        "## 13. Test the Model"
      ]
    },
    {
      "cell_type": "code",
      "execution_count": null,
      "id": "8ee26275",
      "metadata": {
        "id": "8ee26275"
      },
      "outputs": [],
      "source": [
        "prediction = mlr.predict(x_test) "
      ]
    },
    {
      "cell_type": "code",
      "execution_count": null,
      "id": "fbb8516e",
      "metadata": {
        "id": "fbb8516e"
      },
      "outputs": [],
      "source": [
        "prediction"
      ]
    },
    {
      "cell_type": "code",
      "execution_count": null,
      "id": "f3033424",
      "metadata": {
        "id": "f3033424"
      },
      "outputs": [],
      "source": [
        "prediction.astype(int)"
      ]
    },
    {
      "cell_type": "code",
      "execution_count": null,
      "id": "2fb38996",
      "metadata": {
        "id": "2fb38996"
      },
      "outputs": [],
      "source": [
        "y_test.astype(int)"
      ]
    },
    {
      "cell_type": "markdown",
      "id": "ae92ba9d",
      "metadata": {
        "id": "ae92ba9d"
      },
      "source": [
        "## 14. Measure the performance using Metrics."
      ]
    },
    {
      "cell_type": "code",
      "execution_count": null,
      "id": "4787dacc",
      "metadata": {
        "id": "4787dacc"
      },
      "outputs": [],
      "source": [
        "from sklearn.metrics import r2_score\n",
        "r2_score(prediction,y_test)"
      ]
    },
    {
      "cell_type": "code",
      "execution_count": null,
      "id": "6e06804c",
      "metadata": {
        "id": "6e06804c"
      },
      "outputs": [],
      "source": [
        "from sklearn.preprocessing import PolynomialFeatures\n",
        "plr = PolynomialFeatures(degree=2)\n",
        "x_poly = plr.fit_transform(x)"
      ]
    },
    {
      "cell_type": "code",
      "execution_count": null,
      "id": "032109c0",
      "metadata": {
        "id": "032109c0"
      },
      "outputs": [],
      "source": [
        "x_poly"
      ]
    },
    {
      "cell_type": "markdown",
      "id": "9c3457f1",
      "metadata": {
        "id": "9c3457f1"
      },
      "source": [
        "## Abalone Age Prediction\n",
        "## 1. LinearRegression"
      ]
    },
    {
      "cell_type": "code",
      "execution_count": null,
      "id": "473b7680",
      "metadata": {
        "id": "473b7680"
      },
      "outputs": [],
      "source": [
        "from sklearn.linear_model import LinearRegression\n",
        "lr = LinearRegression()\n",
        "lr.fit(x_poly,y)"
      ]
    },
    {
      "cell_type": "code",
      "execution_count": null,
      "id": "c79c199a",
      "metadata": {
        "id": "c79c199a"
      },
      "outputs": [],
      "source": [
        "lr.predict(plr.transform([[1,0.350,0.410,0.185,1.3035,0.3635,0.1010,0.285,16]]))"
      ]
    },
    {
      "cell_type": "markdown",
      "id": "dfd89f4b",
      "metadata": {
        "id": "dfd89f4b"
      },
      "source": [
        "## 2. Ridge"
      ]
    },
    {
      "cell_type": "code",
      "execution_count": null,
      "id": "30a0c7c9",
      "metadata": {
        "id": "30a0c7c9"
      },
      "outputs": [],
      "source": [
        "from sklearn.linear_model import Ridge\n",
        "r = Ridge()\n",
        "r.fit(x,y)"
      ]
    },
    {
      "cell_type": "code",
      "execution_count": null,
      "id": "8bf58994",
      "metadata": {
        "id": "8bf58994"
      },
      "outputs": [],
      "source": [
        "r.predict([[1,0.350,0.410,0.185,1.3035,0.3635,0.1010,0.285,16]])"
      ]
    },
    {
      "cell_type": "markdown",
      "id": "70a32095",
      "metadata": {
        "id": "70a32095"
      },
      "source": [
        "## 3. Lasso"
      ]
    },
    {
      "cell_type": "code",
      "execution_count": null,
      "id": "23fa5dc9",
      "metadata": {
        "id": "23fa5dc9"
      },
      "outputs": [],
      "source": [
        "from sklearn.linear_model import Lasso\n",
        "l = Lasso()\n",
        "l.fit(x,y)"
      ]
    },
    {
      "cell_type": "code",
      "execution_count": null,
      "id": "58b13edc",
      "metadata": {
        "id": "58b13edc"
      },
      "outputs": [],
      "source": [
        "l.predict([[1,0.350,0.410,0.185,1.3035,0.3635,0.1010,0.285,16]])"
      ]
    }
  ],
  "metadata": {
    "kernelspec": {
      "display_name": "Python 3 (ipykernel)",
      "language": "python",
      "name": "python3"
    },
    "language_info": {
      "codemirror_mode": {
        "name": "ipython",
        "version": 3
      },
      "file_extension": ".py",
      "mimetype": "text/x-python",
      "name": "python",
      "nbconvert_exporter": "python",
      "pygments_lexer": "ipython3",
      "version": "3.9.12"
    },
    "colab": {
      "provenance": []
    }
  },
  "nbformat": 4,
  "nbformat_minor": 5
}